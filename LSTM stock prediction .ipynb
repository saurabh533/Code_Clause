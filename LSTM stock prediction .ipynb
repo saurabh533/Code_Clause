{
 "cells": [
  {
   "cell_type": "code",
   "execution_count": 2,
   "id": "f843baac",
   "metadata": {},
   "outputs": [],
   "source": [
    "import pandas as pd"
   ]
  },
  {
   "cell_type": "code",
   "execution_count": 40,
   "id": "87c3e632",
   "metadata": {},
   "outputs": [],
   "source": [
    "data = pd.read_csv('D:/stock.csv')"
   ]
  },
  {
   "cell_type": "code",
   "execution_count": 41,
   "id": "506313f5",
   "metadata": {
    "scrolled": true
   },
   "outputs": [
    {
     "data": {
      "text/html": [
       "<div>\n",
       "<style scoped>\n",
       "    .dataframe tbody tr th:only-of-type {\n",
       "        vertical-align: middle;\n",
       "    }\n",
       "\n",
       "    .dataframe tbody tr th {\n",
       "        vertical-align: top;\n",
       "    }\n",
       "\n",
       "    .dataframe thead th {\n",
       "        text-align: right;\n",
       "    }\n",
       "</style>\n",
       "<table border=\"1\" class=\"dataframe\">\n",
       "  <thead>\n",
       "    <tr style=\"text-align: right;\">\n",
       "      <th></th>\n",
       "      <th>Date</th>\n",
       "      <th>Open</th>\n",
       "      <th>High</th>\n",
       "      <th>Low</th>\n",
       "      <th>Last</th>\n",
       "      <th>Close</th>\n",
       "      <th>Total Trade Quantity</th>\n",
       "      <th>Turnover (Lacs)</th>\n",
       "    </tr>\n",
       "  </thead>\n",
       "  <tbody>\n",
       "    <tr>\n",
       "      <th>0</th>\n",
       "      <td>2018-09-28</td>\n",
       "      <td>234.05</td>\n",
       "      <td>235.95</td>\n",
       "      <td>230.20</td>\n",
       "      <td>233.50</td>\n",
       "      <td>233.75</td>\n",
       "      <td>3069914</td>\n",
       "      <td>7162.35</td>\n",
       "    </tr>\n",
       "    <tr>\n",
       "      <th>1</th>\n",
       "      <td>2018-09-27</td>\n",
       "      <td>234.55</td>\n",
       "      <td>236.80</td>\n",
       "      <td>231.10</td>\n",
       "      <td>233.80</td>\n",
       "      <td>233.25</td>\n",
       "      <td>5082859</td>\n",
       "      <td>11859.95</td>\n",
       "    </tr>\n",
       "    <tr>\n",
       "      <th>2</th>\n",
       "      <td>2018-09-26</td>\n",
       "      <td>240.00</td>\n",
       "      <td>240.00</td>\n",
       "      <td>232.50</td>\n",
       "      <td>235.00</td>\n",
       "      <td>234.25</td>\n",
       "      <td>2240909</td>\n",
       "      <td>5248.60</td>\n",
       "    </tr>\n",
       "    <tr>\n",
       "      <th>3</th>\n",
       "      <td>2018-09-25</td>\n",
       "      <td>233.30</td>\n",
       "      <td>236.75</td>\n",
       "      <td>232.00</td>\n",
       "      <td>236.25</td>\n",
       "      <td>236.10</td>\n",
       "      <td>2349368</td>\n",
       "      <td>5503.90</td>\n",
       "    </tr>\n",
       "    <tr>\n",
       "      <th>4</th>\n",
       "      <td>2018-09-24</td>\n",
       "      <td>233.55</td>\n",
       "      <td>239.20</td>\n",
       "      <td>230.75</td>\n",
       "      <td>234.00</td>\n",
       "      <td>233.30</td>\n",
       "      <td>3423509</td>\n",
       "      <td>7999.55</td>\n",
       "    </tr>\n",
       "    <tr>\n",
       "      <th>...</th>\n",
       "      <td>...</td>\n",
       "      <td>...</td>\n",
       "      <td>...</td>\n",
       "      <td>...</td>\n",
       "      <td>...</td>\n",
       "      <td>...</td>\n",
       "      <td>...</td>\n",
       "      <td>...</td>\n",
       "    </tr>\n",
       "    <tr>\n",
       "      <th>2030</th>\n",
       "      <td>2010-07-27</td>\n",
       "      <td>117.60</td>\n",
       "      <td>119.50</td>\n",
       "      <td>112.00</td>\n",
       "      <td>118.80</td>\n",
       "      <td>118.65</td>\n",
       "      <td>586100</td>\n",
       "      <td>694.98</td>\n",
       "    </tr>\n",
       "    <tr>\n",
       "      <th>2031</th>\n",
       "      <td>2010-07-26</td>\n",
       "      <td>120.10</td>\n",
       "      <td>121.00</td>\n",
       "      <td>117.10</td>\n",
       "      <td>117.10</td>\n",
       "      <td>117.60</td>\n",
       "      <td>658440</td>\n",
       "      <td>780.01</td>\n",
       "    </tr>\n",
       "    <tr>\n",
       "      <th>2032</th>\n",
       "      <td>2010-07-23</td>\n",
       "      <td>121.80</td>\n",
       "      <td>121.95</td>\n",
       "      <td>120.25</td>\n",
       "      <td>120.35</td>\n",
       "      <td>120.65</td>\n",
       "      <td>281312</td>\n",
       "      <td>340.31</td>\n",
       "    </tr>\n",
       "    <tr>\n",
       "      <th>2033</th>\n",
       "      <td>2010-07-22</td>\n",
       "      <td>120.30</td>\n",
       "      <td>122.00</td>\n",
       "      <td>120.25</td>\n",
       "      <td>120.75</td>\n",
       "      <td>120.90</td>\n",
       "      <td>293312</td>\n",
       "      <td>355.17</td>\n",
       "    </tr>\n",
       "    <tr>\n",
       "      <th>2034</th>\n",
       "      <td>2010-07-21</td>\n",
       "      <td>122.10</td>\n",
       "      <td>123.00</td>\n",
       "      <td>121.05</td>\n",
       "      <td>121.10</td>\n",
       "      <td>121.55</td>\n",
       "      <td>658666</td>\n",
       "      <td>803.56</td>\n",
       "    </tr>\n",
       "  </tbody>\n",
       "</table>\n",
       "<p>2035 rows × 8 columns</p>\n",
       "</div>"
      ],
      "text/plain": [
       "            Date    Open    High     Low    Last   Close  \\\n",
       "0     2018-09-28  234.05  235.95  230.20  233.50  233.75   \n",
       "1     2018-09-27  234.55  236.80  231.10  233.80  233.25   \n",
       "2     2018-09-26  240.00  240.00  232.50  235.00  234.25   \n",
       "3     2018-09-25  233.30  236.75  232.00  236.25  236.10   \n",
       "4     2018-09-24  233.55  239.20  230.75  234.00  233.30   \n",
       "...          ...     ...     ...     ...     ...     ...   \n",
       "2030  2010-07-27  117.60  119.50  112.00  118.80  118.65   \n",
       "2031  2010-07-26  120.10  121.00  117.10  117.10  117.60   \n",
       "2032  2010-07-23  121.80  121.95  120.25  120.35  120.65   \n",
       "2033  2010-07-22  120.30  122.00  120.25  120.75  120.90   \n",
       "2034  2010-07-21  122.10  123.00  121.05  121.10  121.55   \n",
       "\n",
       "      Total Trade Quantity  Turnover (Lacs)  \n",
       "0                  3069914          7162.35  \n",
       "1                  5082859         11859.95  \n",
       "2                  2240909          5248.60  \n",
       "3                  2349368          5503.90  \n",
       "4                  3423509          7999.55  \n",
       "...                    ...              ...  \n",
       "2030                586100           694.98  \n",
       "2031                658440           780.01  \n",
       "2032                281312           340.31  \n",
       "2033                293312           355.17  \n",
       "2034                658666           803.56  \n",
       "\n",
       "[2035 rows x 8 columns]"
      ]
     },
     "execution_count": 41,
     "metadata": {},
     "output_type": "execute_result"
    }
   ],
   "source": [
    "data"
   ]
  },
  {
   "cell_type": "code",
   "execution_count": 24,
   "id": "52ce4e03",
   "metadata": {},
   "outputs": [],
   "source": [
    "close_data=data['Close']"
   ]
  },
  {
   "cell_type": "code",
   "execution_count": 25,
   "id": "da1e3c8c",
   "metadata": {},
   "outputs": [
    {
     "data": {
      "text/plain": [
       "0       233.75\n",
       "1       233.25\n",
       "2       234.25\n",
       "3       236.10\n",
       "4       233.30\n",
       "         ...  \n",
       "2030    118.65\n",
       "2031    117.60\n",
       "2032    120.65\n",
       "2033    120.90\n",
       "2034    121.55\n",
       "Name: Close, Length: 2035, dtype: float64"
      ]
     },
     "execution_count": 25,
     "metadata": {},
     "output_type": "execute_result"
    }
   ],
   "source": [
    "close_data"
   ]
  },
  {
   "cell_type": "code",
   "execution_count": 35,
   "id": "725b7728",
   "metadata": {},
   "outputs": [],
   "source": [
    "# Convert dates to datetime objects\n",
    "date_objects = pd.to_datetime(data['Date'])"
   ]
  },
  {
   "cell_type": "code",
   "execution_count": 47,
   "id": "ae646a52",
   "metadata": {},
   "outputs": [],
   "source": [
    "time = pd.DataFrame(date_objects)"
   ]
  },
  {
   "cell_type": "code",
   "execution_count": 48,
   "id": "7b916e72",
   "metadata": {
    "scrolled": true
   },
   "outputs": [
    {
     "data": {
      "text/html": [
       "<div>\n",
       "<style scoped>\n",
       "    .dataframe tbody tr th:only-of-type {\n",
       "        vertical-align: middle;\n",
       "    }\n",
       "\n",
       "    .dataframe tbody tr th {\n",
       "        vertical-align: top;\n",
       "    }\n",
       "\n",
       "    .dataframe thead th {\n",
       "        text-align: right;\n",
       "    }\n",
       "</style>\n",
       "<table border=\"1\" class=\"dataframe\">\n",
       "  <thead>\n",
       "    <tr style=\"text-align: right;\">\n",
       "      <th></th>\n",
       "      <th>Date</th>\n",
       "    </tr>\n",
       "  </thead>\n",
       "  <tbody>\n",
       "    <tr>\n",
       "      <th>0</th>\n",
       "      <td>2018-09-28</td>\n",
       "    </tr>\n",
       "    <tr>\n",
       "      <th>1</th>\n",
       "      <td>2018-09-27</td>\n",
       "    </tr>\n",
       "    <tr>\n",
       "      <th>2</th>\n",
       "      <td>2018-09-26</td>\n",
       "    </tr>\n",
       "    <tr>\n",
       "      <th>3</th>\n",
       "      <td>2018-09-25</td>\n",
       "    </tr>\n",
       "    <tr>\n",
       "      <th>4</th>\n",
       "      <td>2018-09-24</td>\n",
       "    </tr>\n",
       "    <tr>\n",
       "      <th>...</th>\n",
       "      <td>...</td>\n",
       "    </tr>\n",
       "    <tr>\n",
       "      <th>2030</th>\n",
       "      <td>2010-07-27</td>\n",
       "    </tr>\n",
       "    <tr>\n",
       "      <th>2031</th>\n",
       "      <td>2010-07-26</td>\n",
       "    </tr>\n",
       "    <tr>\n",
       "      <th>2032</th>\n",
       "      <td>2010-07-23</td>\n",
       "    </tr>\n",
       "    <tr>\n",
       "      <th>2033</th>\n",
       "      <td>2010-07-22</td>\n",
       "    </tr>\n",
       "    <tr>\n",
       "      <th>2034</th>\n",
       "      <td>2010-07-21</td>\n",
       "    </tr>\n",
       "  </tbody>\n",
       "</table>\n",
       "<p>2035 rows × 1 columns</p>\n",
       "</div>"
      ],
      "text/plain": [
       "           Date\n",
       "0    2018-09-28\n",
       "1    2018-09-27\n",
       "2    2018-09-26\n",
       "3    2018-09-25\n",
       "4    2018-09-24\n",
       "...         ...\n",
       "2030 2010-07-27\n",
       "2031 2010-07-26\n",
       "2032 2010-07-23\n",
       "2033 2010-07-22\n",
       "2034 2010-07-21\n",
       "\n",
       "[2035 rows x 1 columns]"
      ]
     },
     "execution_count": 48,
     "metadata": {},
     "output_type": "execute_result"
    }
   ],
   "source": [
    "time"
   ]
  },
  {
   "cell_type": "code",
   "execution_count": 57,
   "id": "6e39e1b0",
   "metadata": {},
   "outputs": [
    {
     "data": {
      "image/png": "[encoded data removed]",
      "text/plain": [
       "<Figure size 640x480 with 1 Axes>"
      ]
     },
     "metadata": {},
     "output_type": "display_data"
    }
   ],
   "source": [
    "# Create a line chart\n",
    "plt.plot(time['Date'], data['Close'], marker='o', linestyle='-', color='r', label='Stocks')\n",
    "\n",
    "\n",
    "plt.xticks(rotation=45)\n",
    "plt.xlabel('Date')\n",
    "plt.ylabel('closing_price')\n",
    "plt.title('Tata stock Trend Over Time')\n",
    "\n",
    "plt.legend()\n",
    "\n",
    "plt.tight_layout()\n",
    "plt.show()"
   ]
  },
  {
   "cell_type": "code",
   "execution_count": 58,
   "id": "2b58f1e4",
   "metadata": {},
   "outputs": [],
   "source": [
    "import numpy as np"
   ]
  },
  {
   "cell_type": "code",
   "execution_count": 61,
   "id": "529bee5d",
   "metadata": {},
   "outputs": [],
   "source": [
    "from sklearn.preprocessing import MinMaxScaler\n",
    "scalar = MinMaxScaler(feature_range=(0,1))\n",
    "df1=scalar.fit_transform(np.array(close_data).reshape(-1,1))"
   ]
  },
  {
   "cell_type": "code",
   "execution_count": 65,
   "id": "3deec3c2",
   "metadata": {},
   "outputs": [
    {
     "data": {
      "text/plain": [
       "(2035, 1)"
      ]
     },
     "execution_count": 65,
     "metadata": {},
     "output_type": "execute_result"
    }
   ],
   "source": [
    "df1.shape"
   ]
  },
  {
   "cell_type": "code",
   "execution_count": 67,
   "id": "521bd785",
   "metadata": {},
   "outputs": [
    {
     "name": "stdout",
     "output_type": "stream",
     "text": [
      "[[0.62418301]\n",
      " [0.62214052]\n",
      " [0.62622549]\n",
      " ...\n",
      " [0.1621732 ]\n",
      " [0.16319444]\n",
      " [0.16584967]]\n"
     ]
    }
   ],
   "source": [
    "print(df1)"
   ]
  },
  {
   "cell_type": "code",
   "execution_count": 68,
   "id": "6664858e",
   "metadata": {},
   "outputs": [],
   "source": [
    "#Splitting data into train test split"
   ]
  },
  {
   "cell_type": "code",
   "execution_count": 87,
   "id": "67e2494f",
   "metadata": {},
   "outputs": [],
   "source": [
    "training_size = int(len(df1)*0.65)\n",
    "test_size = len(df1)-training_size\n",
    "train_data, test_data = df1[:training_size,:],df1[training_size:len(df1),:1]"
   ]
  },
  {
   "cell_type": "code",
   "execution_count": 113,
   "id": "39d72eb1",
   "metadata": {},
   "outputs": [],
   "source": [
    "def create_dataset(dataset,time_step):\n",
    "    dataX,dataY = [],[]\n",
    "    for i in range(len(dataset)-time_step-1):\n",
    "        a = dataset[i:(i+time_step),0]\n",
    "        dataX.append(a)\n",
    "        dataY.append(dataset[i+time_step,0])\n",
    "    return np.array(dataX),np.array(dataY)    "
   ]
  },
  {
   "cell_type": "code",
   "execution_count": 129,
   "id": "904e452f",
   "metadata": {},
   "outputs": [],
   "source": [
    "X_train,y_train=create_dataset(train_data,100)"
   ]
  },
  {
   "cell_type": "code",
   "execution_count": 130,
   "id": "48af7bff",
   "metadata": {},
   "outputs": [],
   "source": [
    "X_test,y_test=create_dataset(test_data,100)"
   ]
  },
  {
   "cell_type": "code",
   "execution_count": 132,
   "id": "8cfffaf5",
   "metadata": {},
   "outputs": [
    {
     "name": "stdout",
     "output_type": "stream",
     "text": [
      "(612, 100)\n",
      "(612,)\n"
     ]
    },
    {
     "data": {
      "text/plain": [
       "(None, None)"
      ]
     },
     "execution_count": 132,
     "metadata": {},
     "output_type": "execute_result"
    }
   ],
   "source": [
    "print(X_test.shape),print(y_test.shape)"
   ]
  },
  {
   "cell_type": "code",
   "execution_count": 133,
   "id": "6292655e",
   "metadata": {},
   "outputs": [
    {
     "name": "stdout",
     "output_type": "stream",
     "text": [
      "(1221, 100)\n",
      "(1221,)\n"
     ]
    },
    {
     "data": {
      "text/plain": [
       "(None, None)"
      ]
     },
     "execution_count": 133,
     "metadata": {},
     "output_type": "execute_result"
    }
   ],
   "source": [
    "print(X_train.shape),print(y_train.shape)"
   ]
  },
  {
   "cell_type": "code",
   "execution_count": 138,
   "id": "674b15a1",
   "metadata": {},
   "outputs": [],
   "source": [
    "#reshape input to be [samples , time_step, features] which is required for LSTM\n",
    "X_train =  X_train.reshape(X_train.shape[0],X_train.shape[1], 1)\n",
    "X_test  =  X_test.reshape(X_test.shape[0],X_test.shape[1], 1)"
   ]
  },
  {
   "cell_type": "code",
   "execution_count": 141,
   "id": "c0618aea",
   "metadata": {},
   "outputs": [],
   "source": [
    "#create stacked LSTM model"
   ]
  },
  {
   "cell_type": "code",
   "execution_count": 143,
   "id": "972a0bb1",
   "metadata": {},
   "outputs": [],
   "source": [
    "from tensorflow.keras.models import Sequential\n",
    "from tensorflow.keras.layers import Dense\n",
    "from tensorflow.keras.layers import LSTM"
   ]
  },
  {
   "cell_type": "code",
   "execution_count": 144,
   "id": "1b3fa122",
   "metadata": {},
   "outputs": [],
   "source": [
    "model=Sequential()\n",
    "model.add(LSTM(50,return_sequences=True,input_shape=(100,1)))\n",
    "model.add(LSTM(50,return_sequences=True))\n",
    "model.add(LSTM(50))\n",
    "model.add(Dense(1))\n",
    "model.compile(loss='mean_squared_error',optimizer='adam')"
   ]
  },
  {
   "cell_type": "code",
   "execution_count": 146,
   "id": "6fb6c30a",
   "metadata": {},
   "outputs": [
    {
     "name": "stdout",
     "output_type": "stream",
     "text": [
      "Model: \"sequential\"\n",
      "_________________________________________________________________\n",
      " Layer (type)                Output Shape              Param #   \n",
      "=================================================================\n",
      " lstm (LSTM)                 (None, 100, 50)           10400     \n",
      "                                                                 \n",
      " lstm_1 (LSTM)               (None, 100, 50)           20200     \n",
      "                                                                 \n",
      " lstm_2 (LSTM)               (None, 50)                20200     \n",
      "                                                                 \n",
      " dense (Dense)               (None, 1)                 51        \n",
      "                                                                 \n",
      "=================================================================\n",
      "Total params: 50851 (198.64 KB)\n",
      "Trainable params: 50851 (198.64 KB)\n",
      "Non-trainable params: 0 (0.00 Byte)\n",
      "_________________________________________________________________\n"
     ]
    }
   ],
   "source": [
    "model.summary()\n"
   ]
  },
  {
   "cell_type": "code",
   "execution_count": 147,
   "id": "9a324fb1",
   "metadata": {},
   "outputs": [
    {
     "name": "stdout",
     "output_type": "stream",
     "text": [
      "Epoch 1/100\n",
      "20/20 [==============================] - 11s 325ms/step - loss: 0.0304 - val_loss: 0.0040\n",
      "Epoch 2/100\n",
      "20/20 [==============================] - 6s 292ms/step - loss: 0.0042 - val_loss: 0.0012\n",
      "Epoch 3/100\n",
      "20/20 [==============================] - 6s 296ms/step - loss: 0.0016 - val_loss: 8.2223e-04\n",
      "Epoch 4/100\n",
      "20/20 [==============================] - 6s 285ms/step - loss: 0.0015 - val_loss: 9.7683e-04\n",
      "Epoch 5/100\n",
      "20/20 [==============================] - 6s 294ms/step - loss: 0.0014 - val_loss: 0.0011\n",
      "Epoch 6/100\n",
      "20/20 [==============================] - 6s 287ms/step - loss: 0.0016 - val_loss: 0.0010\n",
      "Epoch 7/100\n",
      "20/20 [==============================] - 6s 308ms/step - loss: 0.0013 - val_loss: 0.0010\n",
      "Epoch 8/100\n",
      "20/20 [==============================] - 6s 290ms/step - loss: 0.0013 - val_loss: 8.2667e-04\n",
      "Epoch 9/100\n",
      "20/20 [==============================] - 6s 294ms/step - loss: 0.0012 - val_loss: 0.0012\n",
      "Epoch 10/100\n",
      "20/20 [==============================] - 6s 287ms/step - loss: 0.0011 - val_loss: 8.6916e-04\n",
      "Epoch 11/100\n",
      "20/20 [==============================] - 6s 300ms/step - loss: 0.0011 - val_loss: 0.0011\n",
      "Epoch 12/100\n",
      "20/20 [==============================] - 6s 283ms/step - loss: 0.0010 - val_loss: 0.0011\n",
      "Epoch 13/100\n",
      "20/20 [==============================] - 6s 301ms/step - loss: 0.0010 - val_loss: 6.6206e-04\n",
      "Epoch 14/100\n",
      "20/20 [==============================] - 6s 313ms/step - loss: 0.0014 - val_loss: 9.0415e-04\n",
      "Epoch 15/100\n",
      "20/20 [==============================] - 6s 287ms/step - loss: 9.6392e-04 - val_loss: 7.3241e-04\n",
      "Epoch 16/100\n",
      "20/20 [==============================] - 6s 289ms/step - loss: 8.7054e-04 - val_loss: 9.6117e-04\n",
      "Epoch 17/100\n",
      "20/20 [==============================] - 6s 288ms/step - loss: 9.0026e-04 - val_loss: 7.6537e-04\n",
      "Epoch 18/100\n",
      "20/20 [==============================] - 6s 306ms/step - loss: 8.9273e-04 - val_loss: 7.1696e-04\n",
      "Epoch 19/100\n",
      "20/20 [==============================] - 6s 321ms/step - loss: 7.4913e-04 - val_loss: 6.4088e-04\n",
      "Epoch 20/100\n",
      "20/20 [==============================] - 6s 298ms/step - loss: 7.4989e-04 - val_loss: 6.7947e-04\n",
      "Epoch 21/100\n",
      "20/20 [==============================] - 6s 320ms/step - loss: 7.2051e-04 - val_loss: 6.8694e-04\n",
      "Epoch 22/100\n",
      "20/20 [==============================] - 6s 284ms/step - loss: 7.1239e-04 - val_loss: 6.9547e-04\n",
      "Epoch 23/100\n",
      "20/20 [==============================] - 6s 286ms/step - loss: 7.1120e-04 - val_loss: 9.1539e-04\n",
      "Epoch 24/100\n",
      "20/20 [==============================] - 6s 302ms/step - loss: 6.9347e-04 - val_loss: 6.3059e-04\n",
      "Epoch 25/100\n",
      "20/20 [==============================] - 6s 292ms/step - loss: 6.9536e-04 - val_loss: 6.1526e-04\n",
      "Epoch 26/100\n",
      "20/20 [==============================] - 6s 293ms/step - loss: 6.5048e-04 - val_loss: 8.0791e-04\n",
      "Epoch 27/100\n",
      "20/20 [==============================] - 6s 291ms/step - loss: 6.6159e-04 - val_loss: 5.6090e-04\n",
      "Epoch 28/100\n",
      "20/20 [==============================] - 6s 326ms/step - loss: 7.3799e-04 - val_loss: 7.9497e-04\n",
      "Epoch 29/100\n",
      "20/20 [==============================] - 6s 327ms/step - loss: 9.0797e-04 - val_loss: 6.8279e-04\n",
      "Epoch 30/100\n",
      "20/20 [==============================] - 6s 308ms/step - loss: 6.4902e-04 - val_loss: 6.8269e-04\n",
      "Epoch 31/100\n",
      "20/20 [==============================] - 6s 315ms/step - loss: 5.8532e-04 - val_loss: 7.2256e-04\n",
      "Epoch 32/100\n",
      "20/20 [==============================] - 6s 305ms/step - loss: 5.7793e-04 - val_loss: 9.6423e-04\n",
      "Epoch 33/100\n",
      "20/20 [==============================] - 85s 4s/step - loss: 7.5548e-04 - val_loss: 8.1358e-04\n",
      "Epoch 34/100\n",
      "20/20 [==============================] - 7s 330ms/step - loss: 6.1108e-04 - val_loss: 7.2208e-04\n",
      "Epoch 35/100\n",
      "20/20 [==============================] - 6s 305ms/step - loss: 6.1708e-04 - val_loss: 6.0154e-04\n",
      "Epoch 36/100\n",
      "20/20 [==============================] - 5s 273ms/step - loss: 5.8978e-04 - val_loss: 8.1156e-04\n",
      "Epoch 37/100\n",
      "20/20 [==============================] - 6s 288ms/step - loss: 5.6715e-04 - val_loss: 6.2085e-04\n",
      "Epoch 38/100\n",
      "20/20 [==============================] - 6s 292ms/step - loss: 5.6112e-04 - val_loss: 5.6205e-04\n",
      "Epoch 39/100\n",
      "20/20 [==============================] - 5s 268ms/step - loss: 5.1807e-04 - val_loss: 5.0568e-04\n",
      "Epoch 40/100\n",
      "20/20 [==============================] - 6s 279ms/step - loss: 5.8212e-04 - val_loss: 5.2429e-04\n",
      "Epoch 41/100\n",
      "20/20 [==============================] - 4s 183ms/step - loss: 5.1212e-04 - val_loss: 4.3384e-04\n",
      "Epoch 42/100\n",
      "20/20 [==============================] - 4s 189ms/step - loss: 5.9794e-04 - val_loss: 7.1519e-04\n",
      "Epoch 43/100\n",
      "20/20 [==============================] - 4s 190ms/step - loss: 6.0646e-04 - val_loss: 6.5455e-04\n",
      "Epoch 44/100\n",
      "20/20 [==============================] - 4s 193ms/step - loss: 5.3242e-04 - val_loss: 4.1146e-04\n",
      "Epoch 45/100\n",
      "20/20 [==============================] - 4s 179ms/step - loss: 5.0964e-04 - val_loss: 5.8870e-04\n",
      "Epoch 46/100\n",
      "20/20 [==============================] - 4s 188ms/step - loss: 5.2308e-04 - val_loss: 4.9330e-04\n",
      "Epoch 47/100\n",
      "20/20 [==============================] - 4s 179ms/step - loss: 4.7275e-04 - val_loss: 6.1364e-04\n",
      "Epoch 48/100\n",
      "20/20 [==============================] - 4s 201ms/step - loss: 4.7615e-04 - val_loss: 4.2637e-04\n",
      "Epoch 49/100\n",
      "20/20 [==============================] - 4s 207ms/step - loss: 5.7128e-04 - val_loss: 4.1295e-04\n",
      "Epoch 50/100\n",
      "20/20 [==============================] - 4s 189ms/step - loss: 6.2765e-04 - val_loss: 3.7177e-04\n",
      "Epoch 51/100\n",
      "20/20 [==============================] - 3s 160ms/step - loss: 4.7232e-04 - val_loss: 5.6037e-04\n",
      "Epoch 52/100\n",
      "20/20 [==============================] - 3s 169ms/step - loss: 4.3437e-04 - val_loss: 4.2415e-04\n",
      "Epoch 53/100\n",
      "20/20 [==============================] - 3s 171ms/step - loss: 4.5340e-04 - val_loss: 3.7093e-04\n",
      "Epoch 54/100\n",
      "20/20 [==============================] - 3s 167ms/step - loss: 4.3644e-04 - val_loss: 4.3238e-04\n",
      "Epoch 55/100\n",
      "20/20 [==============================] - 3s 168ms/step - loss: 4.1516e-04 - val_loss: 4.6606e-04\n",
      "Epoch 56/100\n",
      "20/20 [==============================] - 3s 169ms/step - loss: 4.1739e-04 - val_loss: 4.5684e-04\n",
      "Epoch 57/100\n",
      "20/20 [==============================] - 4s 188ms/step - loss: 3.9441e-04 - val_loss: 4.8275e-04\n",
      "Epoch 58/100\n",
      "20/20 [==============================] - 4s 186ms/step - loss: 4.0258e-04 - val_loss: 3.6342e-04\n",
      "Epoch 59/100\n",
      "20/20 [==============================] - 4s 195ms/step - loss: 3.8411e-04 - val_loss: 3.5545e-04\n",
      "Epoch 60/100\n",
      "20/20 [==============================] - 4s 186ms/step - loss: 3.9595e-04 - val_loss: 3.1958e-04\n",
      "Epoch 61/100\n",
      "20/20 [==============================] - 3s 175ms/step - loss: 3.7940e-04 - val_loss: 3.2905e-04\n",
      "Epoch 62/100\n",
      "20/20 [==============================] - 3s 173ms/step - loss: 3.9608e-04 - val_loss: 3.2625e-04\n",
      "Epoch 63/100\n",
      "20/20 [==============================] - 3s 169ms/step - loss: 3.9290e-04 - val_loss: 5.1086e-04\n",
      "Epoch 64/100\n",
      "20/20 [==============================] - 3s 174ms/step - loss: 4.5158e-04 - val_loss: 3.6981e-04\n",
      "Epoch 65/100\n",
      "20/20 [==============================] - 3s 166ms/step - loss: 3.5177e-04 - val_loss: 3.0268e-04\n",
      "Epoch 66/100\n",
      "20/20 [==============================] - 4s 188ms/step - loss: 3.6214e-04 - val_loss: 3.4618e-04\n",
      "Epoch 67/100\n",
      "20/20 [==============================] - 4s 187ms/step - loss: 3.7803e-04 - val_loss: 2.6729e-04\n",
      "Epoch 68/100\n",
      "20/20 [==============================] - 4s 182ms/step - loss: 3.5757e-04 - val_loss: 2.8600e-04\n",
      "Epoch 69/100\n",
      "20/20 [==============================] - 4s 177ms/step - loss: 3.8867e-04 - val_loss: 3.7977e-04\n",
      "Epoch 70/100\n",
      "20/20 [==============================] - 4s 178ms/step - loss: 3.1937e-04 - val_loss: 3.8098e-04\n",
      "Epoch 71/100\n",
      "20/20 [==============================] - 4s 190ms/step - loss: 3.2123e-04 - val_loss: 3.4841e-04\n",
      "Epoch 72/100\n",
      "20/20 [==============================] - 4s 194ms/step - loss: 3.1403e-04 - val_loss: 2.9098e-04\n",
      "Epoch 73/100\n",
      "20/20 [==============================] - 4s 193ms/step - loss: 3.1926e-04 - val_loss: 2.8605e-04\n",
      "Epoch 74/100\n",
      "20/20 [==============================] - 3s 172ms/step - loss: 3.1309e-04 - val_loss: 2.6647e-04\n",
      "Epoch 75/100\n",
      "20/20 [==============================] - 4s 184ms/step - loss: 2.9722e-04 - val_loss: 2.4173e-04\n",
      "Epoch 76/100\n",
      "20/20 [==============================] - 3s 176ms/step - loss: 3.0980e-04 - val_loss: 2.9443e-04\n",
      "Epoch 77/100\n",
      "20/20 [==============================] - 3s 173ms/step - loss: 3.2922e-04 - val_loss: 3.6449e-04\n",
      "Epoch 78/100\n",
      "20/20 [==============================] - 3s 174ms/step - loss: 3.0859e-04 - val_loss: 2.4321e-04\n",
      "Epoch 79/100\n",
      "20/20 [==============================] - 4s 176ms/step - loss: 2.9943e-04 - val_loss: 2.2469e-04\n",
      "Epoch 80/100\n",
      "20/20 [==============================] - 4s 179ms/step - loss: 2.7548e-04 - val_loss: 2.2256e-04\n",
      "Epoch 81/100\n",
      "20/20 [==============================] - 4s 180ms/step - loss: 2.7106e-04 - val_loss: 2.2602e-04\n",
      "Epoch 82/100\n",
      "20/20 [==============================] - 3s 174ms/step - loss: 2.9186e-04 - val_loss: 4.0338e-04\n",
      "Epoch 83/100\n",
      "20/20 [==============================] - 3s 174ms/step - loss: 2.8781e-04 - val_loss: 2.2994e-04\n",
      "Epoch 84/100\n",
      "20/20 [==============================] - 4s 188ms/step - loss: 2.6871e-04 - val_loss: 2.6799e-04\n",
      "Epoch 85/100\n",
      "20/20 [==============================] - 4s 181ms/step - loss: 2.5014e-04 - val_loss: 2.3067e-04\n",
      "Epoch 86/100\n",
      "20/20 [==============================] - 3s 169ms/step - loss: 2.4988e-04 - val_loss: 2.5330e-04\n",
      "Epoch 87/100\n",
      "20/20 [==============================] - 3s 171ms/step - loss: 2.6960e-04 - val_loss: 2.4752e-04\n",
      "Epoch 88/100\n",
      "20/20 [==============================] - 3s 172ms/step - loss: 2.4010e-04 - val_loss: 3.4205e-04\n",
      "Epoch 89/100\n",
      "20/20 [==============================] - 4s 181ms/step - loss: 2.7616e-04 - val_loss: 1.9315e-04\n",
      "Epoch 90/100\n",
      "20/20 [==============================] - 3s 165ms/step - loss: 2.7423e-04 - val_loss: 1.9814e-04\n",
      "Epoch 91/100\n",
      "20/20 [==============================] - 3s 166ms/step - loss: 2.3552e-04 - val_loss: 2.7358e-04\n",
      "Epoch 92/100\n",
      "20/20 [==============================] - 3s 168ms/step - loss: 2.4522e-04 - val_loss: 2.9102e-04\n",
      "Epoch 93/100\n",
      "20/20 [==============================] - 4s 185ms/step - loss: 2.4596e-04 - val_loss: 3.0288e-04\n",
      "Epoch 94/100\n",
      "20/20 [==============================] - 3s 172ms/step - loss: 2.3284e-04 - val_loss: 2.1374e-04\n",
      "Epoch 95/100\n",
      "20/20 [==============================] - 3s 167ms/step - loss: 2.5524e-04 - val_loss: 1.9004e-04\n",
      "Epoch 96/100\n",
      "20/20 [==============================] - 3s 170ms/step - loss: 2.3294e-04 - val_loss: 1.8621e-04\n",
      "Epoch 97/100\n",
      "20/20 [==============================] - 3s 173ms/step - loss: 2.2236e-04 - val_loss: 2.0258e-04\n",
      "Epoch 98/100\n",
      "20/20 [==============================] - 4s 180ms/step - loss: 2.3721e-04 - val_loss: 1.8174e-04\n",
      "Epoch 99/100\n",
      "20/20 [==============================] - 3s 171ms/step - loss: 2.2282e-04 - val_loss: 1.8498e-04\n",
      "Epoch 100/100\n",
      "20/20 [==============================] - 3s 172ms/step - loss: 2.3623e-04 - val_loss: 2.2807e-04\n"
     ]
    },
    {
     "data": {
      "text/plain": [
       "<keras.src.callbacks.History at 0x222c930c730>"
      ]
     },
     "execution_count": 147,
     "metadata": {},
     "output_type": "execute_result"
    }
   ],
   "source": [
    "model.fit(X_train,y_train,validation_data=(X_test,y_test),epochs=100,batch_size=64,verbose=1)"
   ]
  },
  {
   "cell_type": "code",
   "execution_count": 148,
   "id": "0634d501",
   "metadata": {},
   "outputs": [
    {
     "name": "stdout",
     "output_type": "stream",
     "text": [
      "39/39 [==============================] - 2s 30ms/step\n"
     ]
    }
   ],
   "source": [
    "train_predict = model.predict(X_train)"
   ]
  },
  {
   "cell_type": "code",
   "execution_count": 150,
   "id": "639544b1",
   "metadata": {},
   "outputs": [
    {
     "name": "stdout",
     "output_type": "stream",
     "text": [
      "20/20 [==============================] - 1s 32ms/step\n"
     ]
    }
   ],
   "source": [
    "test_predict = model.predict(X_test)"
   ]
  },
  {
   "cell_type": "code",
   "execution_count": null,
   "id": "333f7ee0",
   "metadata": {},
   "outputs": [],
   "source": []
  }
 ],
 "metadata": {
  "kernelspec": {
   "display_name": "Python 3 (ipykernel)",
   "language": "python",
   "name": "python3"
  },
  "language_info": {
   "codemirror_mode": {
    "name": "ipython",
    "version": 3
   },
   "file_extension": ".py",
   "mimetype": "text/x-python",
   "name": "python",
   "nbconvert_exporter": "python",
   "pygments_lexer": "ipython3",
   "version": "3.9.12"
  }
 },
 "nbformat": 4,
 "nbformat_minor": 5
}
